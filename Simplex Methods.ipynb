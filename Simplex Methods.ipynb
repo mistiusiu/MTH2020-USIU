{
 "cells": [
  {
   "cell_type": "markdown",
   "id": "e16f07fc-cfa1-4326-bba1-caf68dec7ee5",
   "metadata": {},
   "source": [
    "# Simplex Methods"
   ]
  },
  {
   "cell_type": "markdown",
   "id": "5dd02e9c-18aa-4395-b1a9-8e7e056825db",
   "metadata": {},
   "source": [
    "## Selection of Entering and Leaving Variables"
   ]
  },
  {
   "cell_type": "markdown",
   "id": "36c3853c-481d-48c7-aabd-4023d083d35c",
   "metadata": {},
   "source": [
    "### Logical Criteria"
   ]
  },
  {
   "cell_type": "markdown",
   "id": "fc12541f-9d9d-452b-8e2d-71d9365c8a54",
   "metadata": {},
   "source": [
    "#### Step 1: Entering Variable\n",
    "\n",
    "**Question:** Which variable, if I increase it, will improve the objective the most per unit?\n",
    "\n",
    "This is determined from the **reduced cost**:\n",
    "\n",
    "$\n",
    "C_j - Z_j\n",
    "$\n",
    "\n",
    "##### For Maximization:\n",
    "- A **positive** $C_j - Z_j$ means increasing $x_j$ will **increase** the objective.\n",
    "- **Rule:** Pick the **largest positive** value (most improvement per unit).\n",
    "\n",
    "##### For Minimization:\n",
    "- A **negative** $C_j - Z_j$ means increasing $x_j$ will **decrease** the objective (good for minimization).\n",
    "- **Rule:** Pick the **most negative** value (biggest drop per unit)."
   ]
  },
  {
   "cell_type": "markdown",
   "id": "d3149e6b-3de7-433e-9e68-580305a9b227",
   "metadata": {},
   "source": [
    "#### Step 2: Leaving Variable\n",
    "\n",
    "**Question:** If I bring in this entering variable, which current basic variable will hit zero first?\n",
    "\n",
    "Use the **minimum ratio test**:\n",
    "\n",
    "$\n",
    "\\text{Ratio} = \\frac{\\text{RHS}}{\\text{pivot column entry}}\n",
    "$\n",
    "\n",
    "- Only compute this where the **pivot column entry** is **positive** — otherwise increasing the entering variable wouldn’t decrease the RHS.\n",
    "- **Rule:** Pick the **smallest non-negative** ratio so you leave feasibility intact."
   ]
  },
  {
   "cell_type": "markdown",
   "id": "3fba06be-1df5-4555-8e4c-6f0c4600995d",
   "metadata": {},
   "source": [
    "### Table of Generic Selection"
   ]
  },
  {
   "cell_type": "markdown",
   "id": "815f31ad-d581-42d8-afd1-25642867e11f",
   "metadata": {},
   "source": [
    "| Problem Type           | **Step 1: Entering Variable** (look at $C_j - Z_j$)                                           | **Step 2: Leaving Variable** (min ratio test)                                                  |\n",
    "| ---------------------- | --------------------------------------------------------------------------------------------- | ---------------------------------------------------------------------------------------------- |\n",
    "| **Maximization**       | Pick the **largest positive** $C_j - Z_j$                                                     | Use **smallest non-negative** ratio $\\frac{\\text{RHS}}{\\text{pivot col}}$, pivot col entry > 0 |\n",
    "| **Minimization**       | Pick the **most negative** $C_j - Z_j$                                                        | Use **smallest non-negative** ratio $\\frac{\\text{RHS}}{\\text{pivot col}}$, pivot col entry > 0 |\n",
    "| **Phase 1 (any type)** | Treat the Phase-1 artificial objective as “minimization” — pick **most negative** $C_j - Z_j$ | Same ratio rule as above                                                                       |\n",
    "| **Tie in Step 1**      | If two are equally best: choose the **first** or use Bland’s Rule to avoid cycling            | —                                                                                              |\n",
    "| **Tie in Step 2**      | If two ratios are equal: choose the **first** or use Bland’s Rule                             | —                                                                                              |"
   ]
  },
  {
   "cell_type": "markdown",
   "id": "33a4fa07-fa3e-48f8-b541-c3d96b60fb66",
   "metadata": {},
   "source": [
    "The above table focuses on the generic simplex methods. It does not apply to specific scenarios like the **Wolfe's Method** used to handle QPPs."
   ]
  },
  {
   "cell_type": "markdown",
   "id": "83031983-0754-4812-809a-81408e110829",
   "metadata": {},
   "source": [
    "### Wolfe's Method"
   ]
  },
  {
   "cell_type": "markdown",
   "id": "5f25e472-454c-467c-9361-5f70275d200b",
   "metadata": {},
   "source": [
    "Using the original premise that the QPP has been expressed as:\n",
    "\n",
    "- Minimization function\n",
    "- All constraints are `<=`\n",
    "\n",
    "Once the Langragian is constructed and the Kuhn-Tucker conditions obtained and used as the constraints, the artificial variables are added to the objective function and the relevant constraints. To determine the constraints to add these artificial variables to:\n",
    "\n",
    "- Select the ones without slack variables\n",
    "\n",
    "In the Two Phase Simplex Phase 1 stage:\n",
    "\n",
    "**Entering Variable**\n",
    "\n",
    "First most positive value\n",
    "\n",
    "**Leaving Variable**\n",
    "\n",
    "First smallest non-negative value"
   ]
  }
 ],
 "metadata": {
  "kernelspec": {
   "display_name": "Python 3 (ipykernel)",
   "language": "python",
   "name": "python3"
  },
  "language_info": {
   "codemirror_mode": {
    "name": "ipython",
    "version": 3
   },
   "file_extension": ".py",
   "mimetype": "text/x-python",
   "name": "python",
   "nbconvert_exporter": "python",
   "pygments_lexer": "ipython3",
   "version": "3.13.5"
  }
 },
 "nbformat": 4,
 "nbformat_minor": 5
}
