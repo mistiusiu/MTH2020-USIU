{
 "cells": [
  {
   "cell_type": "markdown",
   "id": "e16f07fc-cfa1-4326-bba1-caf68dec7ee5",
   "metadata": {},
   "source": [
    "# Simplex Methods"
   ]
  },
  {
   "cell_type": "markdown",
   "id": "5dd02e9c-18aa-4395-b1a9-8e7e056825db",
   "metadata": {},
   "source": [
    "## Selection of Entering and Leaving Variables"
   ]
  },
  {
   "cell_type": "markdown",
   "id": "815f31ad-d581-42d8-afd1-25642867e11f",
   "metadata": {},
   "source": [
    "| Problem Type           | **Step 1: Entering Variable** (look at $C_j - Z_j$)                                           | **Step 2: Leaving Variable** (min ratio test)                                                  |\n",
    "| ---------------------- | --------------------------------------------------------------------------------------------- | ---------------------------------------------------------------------------------------------- |\n",
    "| **Maximization**       | Pick the **largest positive** $C_j - Z_j$                                                     | Use **smallest non-negative** ratio $\\frac{\\text{RHS}}{\\text{pivot col}}$, pivot col entry > 0 |\n",
    "| **Minimization**       | Pick the **most negative** $C_j - Z_j$                                                        | Use **smallest non-negative** ratio $\\frac{\\text{RHS}}{\\text{pivot col}}$, pivot col entry > 0 |\n",
    "| **Phase 1 (any type)** | Treat the Phase-1 artificial objective as “minimization” — pick **most negative** $C_j - Z_j$ | Same ratio rule as above                                                                       |\n",
    "| **Tie in Step 1**      | If two are equally best: choose the **first** or use Bland’s Rule to avoid cycling            | —                                                                                              |\n",
    "| **Tie in Step 2**      | If two ratios are equal: choose the **first** or use Bland’s Rule                             | —                                                                                              |"
   ]
  }
 ],
 "metadata": {
  "kernelspec": {
   "display_name": "Python 3 (ipykernel)",
   "language": "python",
   "name": "python3"
  },
  "language_info": {
   "codemirror_mode": {
    "name": "ipython",
    "version": 3
   },
   "file_extension": ".py",
   "mimetype": "text/x-python",
   "name": "python",
   "nbconvert_exporter": "python",
   "pygments_lexer": "ipython3",
   "version": "3.13.5"
  }
 },
 "nbformat": 4,
 "nbformat_minor": 5
}
