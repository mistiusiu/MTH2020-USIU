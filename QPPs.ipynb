{
 "cells": [
  {
   "cell_type": "markdown",
   "id": "0288c607-5419-481f-a9ec-c335fd01099b",
   "metadata": {},
   "source": [
    "# QPPs"
   ]
  },
  {
   "cell_type": "markdown",
   "id": "6786935a-ad91-4103-9a6e-9036ea5f78c5",
   "metadata": {},
   "source": [
    "## Beale's Method"
   ]
  },
  {
   "cell_type": "markdown",
   "id": "82801698-9a58-4a84-a9c5-732db23b9943",
   "metadata": {},
   "source": [
    "### Entering Variable"
   ]
  },
  {
   "cell_type": "markdown",
   "id": "b483aca2-0c74-499c-85ee-295db8dc7f2c",
   "metadata": {},
   "source": [
    "The entering variable is determined as the largest value from:\n",
    "\n",
    "$\n",
    "\\frac{\\partial{f}}{\\partial{x_i}}\n",
    "$\n",
    "\n",
    "when the non-basic variables $X_{NB} = 0$"
   ]
  },
  {
   "cell_type": "markdown",
   "id": "e09acec7-7433-4d8a-a1f4-529a14825cea",
   "metadata": {},
   "source": [
    "### Leaving Variable"
   ]
  },
  {
   "cell_type": "markdown",
   "id": "66a74962-d4a3-47d2-a1a9-16d73b4ed91a",
   "metadata": {},
   "source": [
    "The leaving variable is determined by:\n",
    "\n",
    "$\n",
    "\\frac{\\text{Constant Term}}{\\text{Coefficient of Leaving Variable}}\n",
    "$\n",
    "\n",
    "For every equation with basic variables that has the entering variable term and the corresponding:\n",
    "\n",
    "$\n",
    "\\frac{\\partial{f}}{\\partial{x_i}}\n",
    "$\n",
    "\n",
    "For the leaving variable.\n",
    "\n",
    "From these values the minimum value is selected.\n",
    "\n",
    "If the selected value corresponds to the value obtained for:\n",
    "\n",
    "$\n",
    "\\frac{\\partial{f}}{\\partial{x_i}}\n",
    "$\n",
    "\n",
    "then a dummy variable is introduced ($\\mu_{i}$).\n",
    "\n",
    "This value is:\n",
    "\n",
    "$\n",
    "\\mu_{i} = \\frac{1}{2}\\frac{\\partial{f}}{\\partial{x_i}}\n",
    "$"
   ]
  },
  {
   "cell_type": "markdown",
   "id": "ef521cc5-5aa6-4633-84bc-7c41040716ba",
   "metadata": {},
   "source": [
    "### Iterations"
   ]
  },
  {
   "cell_type": "markdown",
   "id": "b4faf56a-8773-4933-9c0c-b6325afa418d",
   "metadata": {},
   "source": [
    "Iterate until the optimality condition is met expressing at each stage the Basic Variables $X_B$ in terms of the Non-Basic Variables $X_{NB}$.\n",
    "\n",
    "Afterwards, obtain the partial derivatives of the non-basic variables then set $X_{NB} = 0$ to check if the optimality condition has been met."
   ]
  },
  {
   "cell_type": "markdown",
   "id": "243f9c96-8330-4428-aa05-71837a65f66b",
   "metadata": {},
   "source": [
    "### Optimality Condition"
   ]
  },
  {
   "cell_type": "markdown",
   "id": "814f9e63-982a-4308-a37c-53b9718b22a4",
   "metadata": {},
   "source": [
    "To determine the optimum point use the criteria of:\n",
    "\n",
    "- **Minimization:** All non-basic partial derivatives $\\ge$ 0 at optimum\n",
    "- **Maximization:** All non-basic partial derivatives $\\le$ 0 at optimum"
   ]
  }
 ],
 "metadata": {
  "kernelspec": {
   "display_name": "Python 3 (ipykernel)",
   "language": "python",
   "name": "python3"
  },
  "language_info": {
   "codemirror_mode": {
    "name": "ipython",
    "version": 3
   },
   "file_extension": ".py",
   "mimetype": "text/x-python",
   "name": "python",
   "nbconvert_exporter": "python",
   "pygments_lexer": "ipython3",
   "version": "3.13.5"
  }
 },
 "nbformat": 4,
 "nbformat_minor": 5
}
